{
 "cells": [
  {
   "cell_type": "code",
   "execution_count": 9,
   "metadata": {},
   "outputs": [],
   "source": [
    "import Segmentation_py.Doan1 as Do_an_1\n",
    "import os"
   ]
  },
  {
   "cell_type": "code",
   "execution_count": null,
   "metadata": {},
   "outputs": [],
   "source": [
    "Do_an_1.Img_processing()\n"
   ]
  },
  {
   "cell_type": "code",
   "execution_count": null,
   "metadata": {},
   "outputs": [],
   "source": [
    "path_to_watch = \"./test_folder\"\n",
    "before = dict ([(f, None) for f in os.listdir (path_to_watch)])\n",
    "while 1:\n",
    "    #   time.sleep (10)\n",
    "    dir_index = sorted(os.listdir(path_to_watch), key=lambda f: os.path.getmtime(os.path.join(path_to_watch, f)))\n",
    "    after = dict ([(f, None) for f in os.listdir (path_to_watch)])\n",
    "    added = [f for f in after if not f in before]\n",
    "    removed = [f for f in before if not f in after]\n",
    "    recent1 = dir_index[len(dir_index) - 1]\n",
    "    recent2 = dir_index[len(dir_index) - 2]\n",
    "    if added: \n",
    "        print(\"Added: \", \", \".join (added))\n",
    "        print(\"Path to file: \" + (path_to_watch + '/' + added[0]))\n",
    "    if removed: \n",
    "        print(\"Removed: \", \", \".join (removed))\n",
    "    before = after"
   ]
  }
 ],
 "metadata": {
  "kernelspec": {
   "display_name": "Do_an_1",
   "language": "python",
   "name": "python3"
  },
  "language_info": {
   "codemirror_mode": {
    "name": "ipython",
    "version": 3
   },
   "file_extension": ".py",
   "mimetype": "text/x-python",
   "name": "python",
   "nbconvert_exporter": "python",
   "pygments_lexer": "ipython3",
   "version": "3.11.3"
  },
  "orig_nbformat": 4
 },
 "nbformat": 4,
 "nbformat_minor": 2
}
