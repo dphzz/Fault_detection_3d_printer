{
 "cells": [
  {
   "cell_type": "code",
   "execution_count": 1,
   "metadata": {},
   "outputs": [
    {
     "ename": "KeyboardInterrupt",
     "evalue": "",
     "output_type": "error",
     "traceback": [
      "\u001b[1;31m---------------------------------------------------------------------------\u001b[0m",
      "\u001b[1;31mKeyboardInterrupt\u001b[0m                         Traceback (most recent call last)",
      "Cell \u001b[1;32mIn[1], line 5\u001b[0m\n\u001b[0;32m      3\u001b[0m before \u001b[39m=\u001b[39m \u001b[39mdict\u001b[39m ([(f, \u001b[39mNone\u001b[39;00m) \u001b[39mfor\u001b[39;00m f \u001b[39min\u001b[39;00m os\u001b[39m.\u001b[39mlistdir (path_to_watch)])\n\u001b[0;32m      4\u001b[0m \u001b[39mwhile\u001b[39;00m \u001b[39m1\u001b[39m:\n\u001b[1;32m----> 5\u001b[0m   time\u001b[39m.\u001b[39;49msleep (\u001b[39m10\u001b[39;49m)\n\u001b[0;32m      6\u001b[0m   after \u001b[39m=\u001b[39m \u001b[39mdict\u001b[39m ([(f, \u001b[39mNone\u001b[39;00m) \u001b[39mfor\u001b[39;00m f \u001b[39min\u001b[39;00m os\u001b[39m.\u001b[39mlistdir (path_to_watch)])\n\u001b[0;32m      7\u001b[0m   added \u001b[39m=\u001b[39m [f \u001b[39mfor\u001b[39;00m f \u001b[39min\u001b[39;00m after \u001b[39mif\u001b[39;00m \u001b[39mnot\u001b[39;00m f \u001b[39min\u001b[39;00m before]\n",
      "\u001b[1;31mKeyboardInterrupt\u001b[0m: "
     ]
    }
   ],
   "source": [
    "import os, time\n",
    "path_to_watch = \"./test_folder\"\n",
    "before = dict ([(f, None) for f in os.listdir (path_to_watch)])\n",
    "while 1:\n",
    "  time.sleep (10)\n",
    "  after = dict ([(f, None) for f in os.listdir (path_to_watch)])\n",
    "  added = [f for f in after if not f in before]\n",
    "  removed = [f for f in before if not f in after]\n",
    "  if added: \n",
    "    print(\"Added: \", \", \".join (added))\n",
    "  if removed: \n",
    "    print(\"Removed: \", \", \".join (removed))\n",
    "  before = after"
   ]
  }
 ],
 "metadata": {
  "kernelspec": {
   "display_name": "Do_an_1",
   "language": "python",
   "name": "python3"
  },
  "language_info": {
   "codemirror_mode": {
    "name": "ipython",
    "version": 3
   },
   "file_extension": ".py",
   "mimetype": "text/x-python",
   "name": "python",
   "nbconvert_exporter": "python",
   "pygments_lexer": "ipython3",
   "version": "3.11.3"
  },
  "orig_nbformat": 4
 },
 "nbformat": 4,
 "nbformat_minor": 2
}
